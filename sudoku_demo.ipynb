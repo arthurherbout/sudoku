{
 "cells": [
  {
   "cell_type": "markdown",
   "metadata": {},
   "source": [
    "This notebook will serve as a example of how algorithm intelligence helps solving problems. \n",
    "We will take the simple example of the Sudoku and try to solve it using different techniques, from the simplest to the more advance ones. \n",
    "\n",
    "***backtracking***\n",
    "\n",
    "***graph coloring***\n",
    "\n",
    "***integer programming***\n",
    "\n",
    "***reinforcement learning***"
   ]
  },
  {
   "cell_type": "markdown",
   "metadata": {},
   "source": [
    "## creating a sudoku grid\n",
    "First of all we need to create sudoku grid in a efficient and smart way: it will be a two-dimensional array. Then, for each method, a transformation will be made to fit to the current method. \n",
    "\n"
   ]
  },
  {
   "cell_type": "code",
   "execution_count": 1,
   "metadata": {},
   "outputs": [],
   "source": [
    "import numpy as np\n",
    "from tqdm import tqdm"
   ]
  },
  {
   "cell_type": "code",
   "execution_count": 2,
   "metadata": {},
   "outputs": [],
   "source": [
    "from sudoku import Sudoku"
   ]
  },
  {
   "cell_type": "code",
   "execution_count": 3,
   "metadata": {},
   "outputs": [],
   "source": [
    "test1 = Sudoku()"
   ]
  },
  {
   "cell_type": "code",
   "execution_count": 4,
   "metadata": {},
   "outputs": [
    {
     "name": "stdout",
     "output_type": "stream",
     "text": [
      "[[0. 0. 6. 5. 3. 2. 0. 0. 0.]\n",
      " [0. 0. 5. 0. 0. 0. 0. 0. 0.]\n",
      " [0. 0. 0. 0. 0. 0. 0. 0. 5.]\n",
      " [0. 0. 0. 0. 0. 0. 3. 0. 7.]\n",
      " [8. 0. 7. 0. 2. 0. 0. 0. 0.]\n",
      " [5. 0. 0. 0. 0. 0. 0. 0. 0.]\n",
      " [3. 4. 0. 0. 0. 0. 0. 0. 0.]\n",
      " [0. 0. 0. 1. 7. 6. 2. 0. 0.]\n",
      " [0. 8. 2. 0. 0. 0. 0. 0. 0.]]\n"
     ]
    }
   ],
   "source": [
    "print(test1.grid)"
   ]
  },
  {
   "cell_type": "code",
   "execution_count": 5,
   "metadata": {},
   "outputs": [],
   "source": [
    "counts = {}\n",
    "for j in range(10,20):\n",
    "    count = 0\n",
    "    N_test = 100\n",
    "    for i in range(N_test):\n",
    "        test = Sudoku(n = j)\n",
    "        count += test.count\n",
    "    count /= N_test\n",
    "    counts[j] = count"
   ]
  },
  {
   "cell_type": "code",
   "execution_count": 6,
   "metadata": {},
   "outputs": [
    {
     "data": {
      "text/plain": [
       "{10: 4.73,\n",
       " 11: 5.92,\n",
       " 12: 11.63,\n",
       " 13: 14.11,\n",
       " 14: 20.66,\n",
       " 15: 35.04,\n",
       " 16: 78.67,\n",
       " 17: 130.47,\n",
       " 18: 169.35,\n",
       " 19: 386.85}"
      ]
     },
     "execution_count": 6,
     "metadata": {},
     "output_type": "execute_result"
    }
   ],
   "source": [
    "counts"
   ]
  },
  {
   "cell_type": "markdown",
   "metadata": {},
   "source": [
    "## Backtracking\n",
    "We will use backtracking to try to complete the Sudoku grid. At each new cell, we will try the first digit that can be added there and move to the next one and try to do the same for the next cell. If there is an issue, we backtrack and set a superior number in that cell.\n",
    "\n",
    "We will use a stack to perform this. "
   ]
  },
  {
   "cell_type": "code",
   "execution_count": null,
   "metadata": {},
   "outputs": [],
   "source": []
  },
  {
   "cell_type": "code",
   "execution_count": null,
   "metadata": {},
   "outputs": [],
   "source": []
  },
  {
   "cell_type": "markdown",
   "metadata": {},
   "source": [
    "## Integer programming\n",
    "\n",
    "In this section, I will use the pulp package. It is a linear/integer programming python package. "
   ]
  },
  {
   "cell_type": "code",
   "execution_count": 7,
   "metadata": {},
   "outputs": [],
   "source": [
    "test_IP = Sudoku()\n",
    "result_IP = test_IP.complete_sudoku(method = \"IP\")\n"
   ]
  },
  {
   "cell_type": "code",
   "execution_count": 8,
   "metadata": {},
   "outputs": [
    {
     "name": "stdout",
     "output_type": "stream",
     "text": [
      "True\n"
     ]
    }
   ],
   "source": [
    "print(result_IP)"
   ]
  },
  {
   "cell_type": "code",
   "execution_count": 10,
   "metadata": {},
   "outputs": [
    {
     "name": "stdout",
     "output_type": "stream",
     "text": [
      "[[4. 2. 5. 7. 3. 9. 1. 8. 6.]\n",
      " [1. 3. 7. 5. 8. 6. 2. 4. 9.]\n",
      " [6. 8. 9. 2. 1. 4. 5. 3. 7.]\n",
      " [8. 5. 3. 6. 9. 2. 4. 7. 1.]\n",
      " [2. 9. 4. 1. 7. 8. 3. 6. 5.]\n",
      " [7. 1. 6. 3. 4. 5. 9. 2. 8.]\n",
      " [9. 7. 8. 4. 5. 3. 6. 1. 2.]\n",
      " [3. 6. 1. 9. 2. 7. 8. 5. 4.]\n",
      " [5. 4. 2. 8. 6. 1. 7. 9. 3.]]\n",
      "0.05295062065124512\n"
     ]
    }
   ],
   "source": [
    "if result_IP == True:\n",
    "    print(test_IP._solution)\n",
    "    print(test_IP._time)"
   ]
  },
  {
   "cell_type": "code",
   "execution_count": 13,
   "metadata": {},
   "outputs": [
    {
     "name": "stderr",
     "output_type": "stream",
     "text": [
      "100%|██████████| 1000/1000 [02:23<00:00,  5.62it/s]\n"
     ]
    }
   ],
   "source": [
    "times = []\n",
    "for i in tqdm(range(1000)):\n",
    "    test = Sudoku()\n",
    "    result = test.complete_sudoku(method = \"IP\")\n",
    "    if result == True:\n",
    "        times.append(test._time)"
   ]
  },
  {
   "cell_type": "code",
   "execution_count": 15,
   "metadata": {},
   "outputs": [
    {
     "data": {
      "image/png": "[encoded data removed]",
      "text/plain": [
       "<Figure size 432x288 with 1 Axes>"
      ]
     },
     "metadata": {},
     "output_type": "display_data"
    }
   ],
   "source": [
    "from matplotlib import pyplot as plt"
   ]
  },
  {
   "cell_type": "code",
   "execution_count": 28,
   "metadata": {},
   "outputs": [
    {
     "data": {
      "image/png": "[encoded data removed]",
      "text/plain": [
       "<Figure size 432x288 with 1 Axes>"
      ]
     },
     "metadata": {},
     "output_type": "display_data"
    }
   ],
   "source": [
    "plt.hist(times, bins=20)\n",
    "plt.show()"
   ]
  },
  {
   "cell_type": "code",
   "execution_count": 24,
   "metadata": {},
   "outputs": [
    {
     "name": "stdout",
     "output_type": "stream",
     "text": [
      "mean: 0.06682819793875734\n",
      "standard deviation: 0.011469822077523886\n",
      "min: 0.04503607749938965\n",
      "max: 0.17132306098937988\n"
     ]
    }
   ],
   "source": [
    "print(\"mean: \" + str(np.mean(times)))\n",
    "print(\"standard deviation: \" + str(np.std(times)))\n",
    "print(\"min: \" + str(np.min(times)))\n",
    "print(\"max: \" + str(np.max(times)))"
   ]
  },
  {
   "cell_type": "markdown",
   "metadata": {},
   "source": [
    "## Reinforcement learning\n",
    "\n",
    "In this section, I will use reinforcement learning to learn how to solve a Sudoku in a human fashion."
   ]
  },
  {
   "cell_type": "code",
   "execution_count": null,
   "metadata": {},
   "outputs": [],
   "source": []
  }
 ],
 "metadata": {
  "kernelspec": {
   "display_name": "Python 3",
   "language": "python",
   "name": "python3"
  },
  "language_info": {
   "codemirror_mode": {
    "name": "ipython",
    "version": 3
   },
   "file_extension": ".py",
   "mimetype": "text/x-python",
   "name": "python",
   "nbconvert_exporter": "python",
   "pygments_lexer": "ipython3",
   "version": "3.6.5"
  }
 },
 "nbformat": 4,
 "nbformat_minor": 2
}
