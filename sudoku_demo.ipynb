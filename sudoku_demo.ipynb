{
 "cells": [
  {
   "cell_type": "markdown",
   "metadata": {},
   "source": [
    "This notebook will serve as a example of how algorithm intelligence helps solving problems. \n",
    "We will take the simple example of the Sudoku and try to solve it using different techniques, from the simplest to the more advance ones. \n",
    "\n",
    "***backtracking***\n",
    "\n",
    "***graph coloring***\n",
    "\n",
    "***integer programming***\n",
    "\n",
    "***reinforcement learning***"
   ]
  },
  {
   "cell_type": "markdown",
   "metadata": {},
   "source": [
    "## creating a sudoku grid\n",
    "First of all we need to create sudoku grid in a efficient and smart way: it will be a two-dimensional array. Then, for each method, a transformation will be made to fit to the current method. \n",
    "\n"
   ]
  },
  {
   "cell_type": "code",
   "execution_count": 1,
   "metadata": {
    "scrolled": true
   },
   "outputs": [],
   "source": [
    "import numpy as np\n",
    "from tqdm import tqdm\n",
    "from matplotlib import pyplot as plt"
   ]
  },
  {
   "cell_type": "code",
   "execution_count": 2,
   "metadata": {},
   "outputs": [],
   "source": [
    "from sudoku import Sudoku"
   ]
  },
  {
   "cell_type": "code",
   "execution_count": 3,
   "metadata": {},
   "outputs": [],
   "source": [
    "test1 = Sudoku()"
   ]
  },
  {
   "cell_type": "code",
   "execution_count": 4,
   "metadata": {},
   "outputs": [
    {
     "name": "stdout",
     "output_type": "stream",
     "text": [
      "[[0. 4. 0. 0. 0. 0. 0. 6. 0.]\n",
      " [7. 0. 0. 8. 5. 0. 0. 0. 0.]\n",
      " [0. 0. 0. 0. 0. 3. 0. 0. 0.]\n",
      " [0. 0. 0. 4. 1. 0. 0. 0. 3.]\n",
      " [3. 0. 0. 0. 0. 0. 1. 0. 0.]\n",
      " [0. 0. 4. 0. 0. 0. 6. 0. 0.]\n",
      " [0. 6. 0. 0. 0. 0. 0. 1. 8.]\n",
      " [0. 0. 0. 0. 0. 0. 0. 0. 0.]\n",
      " [1. 0. 3. 0. 0. 8. 0. 0. 5.]]\n"
     ]
    }
   ],
   "source": [
    "print(test1.grid)"
   ]
  },
  {
   "cell_type": "code",
   "execution_count": null,
   "metadata": {},
   "outputs": [],
   "source": [
    "counts = {}\n",
    "for j in range(10,20):\n",
    "    count = 0\n",
    "    N_test = 100\n",
    "    for i in range(N_test):\n",
    "        test = Sudoku(n = j)\n",
    "        count += test.count\n",
    "    count /= N_test\n",
    "    counts[j] = count"
   ]
  },
  {
   "cell_type": "code",
   "execution_count": null,
   "metadata": {},
   "outputs": [],
   "source": [
    "counts"
   ]
  },
  {
   "cell_type": "markdown",
   "metadata": {},
   "source": [
    "## Backtracking\n",
    "We will use backtracking to try to complete the Sudoku grid. At each new cell, we will try the first digit that can be added there and move to the next one and try to do the same for the next cell. If there is an issue, we backtrack and set a superior number in that cell."
   ]
  },
  {
   "cell_type": "code",
   "execution_count": 25,
   "metadata": {},
   "outputs": [],
   "source": [
    "test_backtrack = Sudoku()\n",
    "result_backtrack = test_backtrack.complete_sudoku()"
   ]
  },
  {
   "cell_type": "code",
   "execution_count": 26,
   "metadata": {},
   "outputs": [
    {
     "name": "stdout",
     "output_type": "stream",
     "text": [
      "True\n"
     ]
    }
   ],
   "source": [
    "print(result_backtrack)"
   ]
  },
  {
   "cell_type": "code",
   "execution_count": 27,
   "metadata": {},
   "outputs": [
    {
     "name": "stdout",
     "output_type": "stream",
     "text": [
      "[[1. 3. 7. 8. 2. 9. 5. 6. 4.]\n",
      " [4. 5. 8. 7. 6. 3. 9. 1. 2.]\n",
      " [2. 9. 6. 1. 4. 5. 3. 7. 8.]\n",
      " [3. 1. 4. 9. 5. 6. 8. 2. 7.]\n",
      " [8. 7. 9. 2. 1. 4. 6. 3. 5.]\n",
      " [6. 2. 5. 3. 8. 7. 4. 9. 1.]\n",
      " [5. 6. 3. 4. 7. 1. 2. 8. 9.]\n",
      " [7. 4. 2. 6. 9. 8. 1. 5. 3.]\n",
      " [9. 8. 1. 5. 3. 2. 7. 4. 6.]]\n",
      "0.5275743007659912\n"
     ]
    }
   ],
   "source": [
    "if result_backtrack == True:\n",
    "    print(test_backtrack._solution)\n",
    "    print(test_backtrack._time)"
   ]
  },
  {
   "cell_type": "code",
   "execution_count": null,
   "metadata": {},
   "outputs": [],
   "source": [
    "times = []\n",
    "for i in tqdm(range(1000)):\n",
    "    test = Sudoku()\n",
    "    result = test.complete_sudoku()\n",
    "    if result == True:\n",
    "        times.append(test._time)"
   ]
  },
  {
   "cell_type": "code",
   "execution_count": null,
   "metadata": {},
   "outputs": [],
   "source": [
    "times"
   ]
  },
  {
   "cell_type": "markdown",
   "metadata": {},
   "source": [
    "## Integer programming\n",
    "\n",
    "In this section, I will use the pulp package. It is a linear/integer programming python package. "
   ]
  },
  {
   "cell_type": "code",
   "execution_count": 8,
   "metadata": {},
   "outputs": [],
   "source": [
    "test_IP = Sudoku()\n",
    "result_IP = test_IP.complete_sudoku(method = \"IP\")\n"
   ]
  },
  {
   "cell_type": "code",
   "execution_count": 9,
   "metadata": {},
   "outputs": [
    {
     "name": "stdout",
     "output_type": "stream",
     "text": [
      "True\n"
     ]
    }
   ],
   "source": [
    "print(result_IP)"
   ]
  },
  {
   "cell_type": "code",
   "execution_count": 10,
   "metadata": {},
   "outputs": [
    {
     "name": "stdout",
     "output_type": "stream",
     "text": [
      "[[3. 2. 5. 7. 8. 9. 4. 1. 6.]\n",
      " [9. 4. 8. 6. 2. 1. 3. 7. 5.]\n",
      " [1. 6. 7. 5. 4. 3. 8. 2. 9.]\n",
      " [8. 9. 3. 2. 6. 7. 5. 4. 1.]\n",
      " [6. 1. 4. 8. 9. 5. 2. 3. 7.]\n",
      " [7. 5. 2. 1. 3. 4. 6. 9. 8.]\n",
      " [2. 7. 1. 3. 5. 6. 9. 8. 4.]\n",
      " [5. 8. 9. 4. 1. 2. 7. 6. 3.]\n",
      " [4. 3. 6. 9. 7. 8. 1. 5. 2.]]\n",
      "0.05309152603149414\n"
     ]
    }
   ],
   "source": [
    "if result_IP == True:\n",
    "    print(test_IP._solution)\n",
    "    print(test_IP._time)"
   ]
  },
  {
   "cell_type": "code",
   "execution_count": 11,
   "metadata": {},
   "outputs": [
    {
     "name": "stderr",
     "output_type": "stream",
     "text": [
      "100%|██████████| 1000/1000 [03:18<00:00,  5.95it/s]\n"
     ]
    }
   ],
   "source": [
    "times = []\n",
    "for i in tqdm(range(1000)):\n",
    "    test = Sudoku()\n",
    "    result = test.complete_sudoku(method = \"IP\")\n",
    "    if result == True:\n",
    "        times.append(test._time)"
   ]
  },
  {
   "cell_type": "code",
   "execution_count": null,
   "metadata": {},
   "outputs": [],
   "source": [
    "plt.hist(times, bins=20)\n",
    "plt.show()"
   ]
  },
  {
   "cell_type": "code",
   "execution_count": null,
   "metadata": {},
   "outputs": [],
   "source": [
    "print(\"mean: \" + str(np.mean(times)))\n",
    "print(\"standard deviation: \" + str(np.std(times)))\n",
    "print(\"min: \" + str(np.min(times)))\n",
    "print(\"max: \" + str(np.max(times)))"
   ]
  },
  {
   "cell_type": "markdown",
   "metadata": {},
   "source": [
    "## Reinforcement learning\n",
    "\n",
    "In this section, I will use reinforcement learning to learn how to solve a Sudoku in a human fashion."
   ]
  },
  {
   "cell_type": "code",
   "execution_count": null,
   "metadata": {},
   "outputs": [],
   "source": [
    "import gym"
   ]
  },
  {
   "cell_type": "code",
   "execution_count": null,
   "metadata": {},
   "outputs": [],
   "source": [
    "print(gym.__version__)"
   ]
  },
  {
   "cell_type": "code",
   "execution_count": null,
   "metadata": {},
   "outputs": [],
   "source": [
    "from gym.envs.registration import register"
   ]
  },
  {
   "cell_type": "code",
   "execution_count": null,
   "metadata": {},
   "outputs": [],
   "source": [
    "register"
   ]
  }
 ],
 "metadata": {
  "kernelspec": {
   "display_name": "Python 3",
   "language": "python",
   "name": "python3"
  },
  "language_info": {
   "codemirror_mode": {
    "name": "ipython",
    "version": 3
   },
   "file_extension": ".py",
   "mimetype": "text/x-python",
   "name": "python",
   "nbconvert_exporter": "python",
   "pygments_lexer": "ipython3",
   "version": "3.7.2"
  }
 },
 "nbformat": 4,
 "nbformat_minor": 2
}
